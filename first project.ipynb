{
 "cells": [
  {
   "cell_type": "code",
   "execution_count": 1,
   "id": "1adc6701",
   "metadata": {},
   "outputs": [],
   "source": [
    "import numpy as np\n",
    "import matplotlib.pyplot as plt"
   ]
  },
  {
   "cell_type": "code",
   "execution_count": 2,
   "id": "925c2f7a",
   "metadata": {},
   "outputs": [
    {
     "data": {
      "text/plain": [
       "[<matplotlib.lines.Line2D at 0x16bf5ab5190>]"
      ]
     },
     "execution_count": 2,
     "metadata": {},
     "output_type": "execute_result"
    },
    {
     "data": {
      "image/png": "[encoded data removed]",
      "text/plain": [
       "<Figure size 432x288 with 1 Axes>"
      ]
     },
     "metadata": {
      "needs_background": "light"
     },
     "output_type": "display_data"
    }
   ],
   "source": [
    "x=np.array([18,7,14,31,21,5,11,16,26,29])\n",
    "y=np.array([55,17,36,85,62,18,33,41,63,87])\n",
    "plt.plot(x,y,'o')\n",
    "n=10\n",
    "sx=0\n",
    "sy=0\n",
    "sxy=0\n",
    "sx2=0\n",
    "for i in range(n):\n",
    "    sx+=x[i]\n",
    "    sy+=y[i]\n",
    "    sxy+=x[i]*y[i]\n",
    "    sx2+=x[i]*x[i]\n",
    "m=(n*sxy - sx*sy)/(n*sx2 - sx*sx)\n",
    "b=(sy - m*sx)/n\n",
    "plt.plot(x,(x*m + b), 'r')"
   ]
  },
  {
   "cell_type": "code",
   "execution_count": null,
   "id": "34c4bb3e",
   "metadata": {},
   "outputs": [],
   "source": []
  }
 ],
 "metadata": {
  "kernelspec": {
   "display_name": "Python 3",
   "language": "python",
   "name": "python3"
  },
  "language_info": {
   "codemirror_mode": {
    "name": "ipython",
    "version": 3
   },
   "file_extension": ".py",
   "mimetype": "text/x-python",
   "name": "python",
   "nbconvert_exporter": "python",
   "pygments_lexer": "ipython3",
   "version": "3.8.8"
  }
 },
 "nbformat": 4,
 "nbformat_minor": 5
}
